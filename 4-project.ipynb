{
 "cells": [
  {
   "attachments": {},
   "cell_type": "markdown",
   "metadata": {},
   "source": [
    "# Project MLE - Drug Dosage\n",
    "### Business Understanding:\n",
    "A pharmaceutical company has developed a new drug that is supposed to lower blood pressure in patients. They need to determine the optimal dosage of the drug to achieve the desired effect while minimizing any potential side effects. They have conducted a clinical trial with a sample of patients, and they want to use machine learning to estimate the optimal dosage.\n",
    "\n",
    "### Data Understanding:\n",
    "The company has collected data from a clinical trial conducted on a sample of patients. The dataset contains the patient's age, gender, weight, and blood pressure measurements before and after taking the drug. The data is in a CSV file, and it is clean and ready for analysis.\n",
    "\n",
    "### Data Preparation:\n",
    "The data needs to be split into training and testing sets. The training set will be used to train the machine learning model, while the testing set will be used to evaluate the performance of the model. We will use the scikit-learn library to split the data.\n",
    "\n",
    "### Modeling:\n",
    "We will use the Maximum Likelihood Estimate (MLE) to estimate the parameters of a linear regression model. The linear regression model will predict the change in blood pressure based on the patient's age, gender, weight, and the dosage of the drug. The MLE will estimate the optimal values for the model parameters that maximize the likelihood of observing the training data. We will use the statsmodels library to perform the MLE.\n",
    "\n",
    "### Evaluation:\n",
    "We will evaluate the performance of the model on the testing set using the mean squared error (MSE) metric. The MSE measures the average squared difference between the predicted and actual blood pressure measurements in the testing set. We will compare the MSE of the linear regression model with the MSE of a baseline model that always predicts the mean blood pressure measurement in the training set."
   ]
  },
  {
   "attachments": {},
   "cell_type": "markdown",
   "metadata": {},
   "source": [
    "## Data Understanding\n",
    "In this part, we import the necessary libraries and load the clinical trial data into a pandas DataFrame."
   ]
  },
  {
   "cell_type": "code",
   "execution_count": 1,
   "metadata": {},
   "outputs": [],
   "source": [
    "# Import necessary libraries\n",
    "import pandas as pd\n",
    "\n",
    "# Load the clinical trial data into a pandas DataFrame\n",
    "data = pd.read_csv('clinical_trial_data.csv')"
   ]
  },
  {
   "attachments": {},
   "cell_type": "markdown",
   "metadata": {},
   "source": [
    "## Data Preparation\n",
    "Here, we split the data into training and testing sets using an 80/20 split, and assign predictor variables (age, gender, weight, dosage) to X and the target variable (blood_pressure) to y."
   ]
  },
  {
   "cell_type": "code",
   "execution_count": 2,
   "metadata": {},
   "outputs": [],
   "source": [
    "# Split the data into training and testing sets using an 80/20 split\n",
    "from sklearn.model_selection import train_test_split\n",
    "X_train, X_test, y_train, y_test = train_test_split(data[['age', 'gender', 'weight', 'dosage']], data['blood_pressure'], test_size=0.2, random_state=42)\n"
   ]
  },
  {
   "cell_type": "code",
   "execution_count": 3,
   "metadata": {},
   "outputs": [
    {
     "name": "stdout",
     "output_type": "stream",
     "text": [
      "(24, 4)\n",
      "age        int64\n",
      "gender    object\n",
      "weight     int64\n",
      "dosage     int64\n",
      "dtype: object\n",
      "age       0\n",
      "gender    0\n",
      "weight    0\n",
      "dosage    0\n",
      "dtype: int64\n"
     ]
    }
   ],
   "source": [
    "#Checking shape of X\n",
    "print(X_train.shape)\n",
    "print(X_train.dtypes)\n",
    "print(X_train.isnull().sum()) and print(y_train.isnull().sum())"
   ]
  },
  {
   "cell_type": "code",
   "execution_count": 4,
   "metadata": {},
   "outputs": [],
   "source": [
    "# One-hot encode gender column\n",
    "X_train = pd.get_dummies(X_train, columns=['gender'], drop_first=True)"
   ]
  },
  {
   "cell_type": "code",
   "execution_count": 5,
   "metadata": {},
   "outputs": [
    {
     "name": "stdout",
     "output_type": "stream",
     "text": [
      "(24, 4)\n",
      "age         int64\n",
      "weight      int64\n",
      "dosage      int64\n",
      "gender_M    uint8\n",
      "dtype: object\n",
      "age         0\n",
      "weight      0\n",
      "dosage      0\n",
      "gender_M    0\n",
      "dtype: int64\n"
     ]
    }
   ],
   "source": [
    "#Checking shape of X\n",
    "print(X_train.shape)\n",
    "print(X_train.dtypes)\n",
    "print(X_train.isnull().sum()) and print(y_train.isnull().sum())"
   ]
  },
  {
   "cell_type": "code",
   "execution_count": 9,
   "metadata": {},
   "outputs": [
    {
     "name": "stdout",
     "output_type": "stream",
     "text": [
      "age        int64\n",
      "gender    object\n",
      "weight     int64\n",
      "dosage     int64\n",
      "dtype: object\n"
     ]
    }
   ],
   "source": [
    "print(X_test.dtypes)\n"
   ]
  },
  {
   "cell_type": "code",
   "execution_count": 10,
   "metadata": {},
   "outputs": [],
   "source": [
    "X_test['gender'] = pd.to_numeric(X_test['gender'], errors='coerce')\n"
   ]
  },
  {
   "cell_type": "code",
   "execution_count": 11,
   "metadata": {},
   "outputs": [
    {
     "name": "stdout",
     "output_type": "stream",
     "text": [
      "age         int64\n",
      "gender    float64\n",
      "weight      int64\n",
      "dosage      int64\n",
      "dtype: object\n"
     ]
    }
   ],
   "source": [
    "print(X_test.dtypes)\n"
   ]
  },
  {
   "attachments": {},
   "cell_type": "markdown",
   "metadata": {},
   "source": [
    "## Modeling\n",
    "\n",
    "In this part, we fit a linear regression model to the training data using Maximum Likelihood Estimation (MLE), and add a constant to the predictor variables (X_train) to obtain the intercept term in the model."
   ]
  },
  {
   "cell_type": "code",
   "execution_count": 14,
   "metadata": {},
   "outputs": [],
   "source": [
    "import statsmodels.api as sm\n",
    "\n",
    "# Fit a linear regression model to the training data using Maximum Likelihood Estimation (MLE)\n",
    "# and add a constant to the predictor variables (X_train) to obtain the intercept term in the model.\n",
    "model = sm.OLS(y_train, sm.add_constant(X_train)).fit()\n",
    "\n",
    "\n"
   ]
  },
  {
   "attachments": {},
   "cell_type": "markdown",
   "metadata": {},
   "source": [
    "## Model evaluation\n",
    "Finally, we evaluate the performance of the model on the testing set by predicting the blood pressure values for the test data using the fitted model parameters and the predictor variables in X_test. We then calculate the Mean Squared Error (MSE) between the predicted and actual blood pressure values for the test set, and calculate the baseline MSE by predicting the mean blood pressure value in the training set for each patient in the test set. We compare the MSE of the model with the baseline MSE to see if the model performs better than the mean predictor."
   ]
  },
  {
   "cell_type": "code",
   "execution_count": 15,
   "metadata": {},
   "outputs": [
    {
     "name": "stdout",
     "output_type": "stream",
     "text": [
      "The baseline model performs better than the linear regression model.\n"
     ]
    }
   ],
   "source": [
    "# Evaluate the performance of the model on the testing set by predicting the blood pressure values for the test data\n",
    "# using the fitted model parameters and the predictor variables in X_test.\n",
    "import numpy as np\n",
    "y_pred = model.predict(sm.add_constant(X_test))\n",
    "\n",
    "# Calculate the Mean Squared Error (MSE) between the predicted and actual blood pressure values for the test set.\n",
    "mse = np.mean((y_test - y_pred)**2)\n",
    "\n",
    "# Calculate the baseline MSE by predicting the mean blood pressure value in the training set for each patient in the test set.\n",
    "baseline_mse = np.mean((y_test - np.mean(y_train))**2)\n",
    "\n",
    "# Compare the MSE of the model with the baseline MSE to see if the model performs better than the mean predictor.\n",
    "if mse < baseline_mse:\n",
    "    print('The linear regression model performs better than the baseline model.')\n",
    "else:\n",
    "    print('The baseline model performs better than the linear regression model.')\n",
    "\n"
   ]
  },
  {
   "cell_type": "code",
   "execution_count": 16,
   "metadata": {},
   "outputs": [
    {
     "ename": "NameError",
     "evalue": "name 'preprocess' is not defined",
     "output_type": "error",
     "traceback": [
      "\u001b[0;31m---------------------------------------------------------------------------\u001b[0m",
      "\u001b[0;31mNameError\u001b[0m                                 Traceback (most recent call last)",
      "Cell \u001b[0;32mIn[16], line 3\u001b[0m\n\u001b[1;32m      1\u001b[0m \u001b[39m# Preprocess new email text\u001b[39;00m\n\u001b[1;32m      2\u001b[0m new_email \u001b[39m=\u001b[39m \u001b[39m\"\u001b[39m\u001b[39mGet rich quick! Earn thousands of dollars a day!\u001b[39m\u001b[39m\"\u001b[39m\n\u001b[0;32m----> 3\u001b[0m preprocessed_email \u001b[39m=\u001b[39m preprocess(new_email)\n\u001b[1;32m      5\u001b[0m \u001b[39m# Convert preprocessed text to bag-of-words features\u001b[39;00m\n\u001b[1;32m      6\u001b[0m new_email_b\n",
      "\u001b[0;31mNameError\u001b[0m: name 'preprocess' is not defined"
     ]
    }
   ],
   "source": [
    "# Preprocess new email text\n",
    "new_email = \"Get rich quick! Earn thousands of dollars a day!\"\n",
    "preprocessed_email = preprocess(new_email)\n",
    "\n",
    "# Convert preprocessed text to bag-of-words features\n",
    "new_email_b\n"
   ]
  },
  {
   "cell_type": "code",
   "execution_count": null,
   "metadata": {},
   "outputs": [],
   "source": []
  }
 ],
 "metadata": {
  "kernelspec": {
   "display_name": "Python 3",
   "language": "python",
   "name": "python3"
  },
  "language_info": {
   "name": "python",
   "version": "3.8.16"
  },
  "orig_nbformat": 4
 },
 "nbformat": 4,
 "nbformat_minor": 2
}
