{
 "cells": [
  {
   "attachments": {},
   "cell_type": "markdown",
   "metadata": {},
   "source": [
    "# Project MLE - Spam filter"
   ]
  },
  {
   "attachments": {},
   "cell_type": "markdown",
   "metadata": {},
   "source": [
    "## Data preparation\n",
    "Collect a dataset of emails labeled as spam or not spam.\n",
    "Preprocess the emails by removing stop words, stemming, and converting text into numerical features."
   ]
  },
  {
   "cell_type": "code",
   "execution_count": null,
   "metadata": {},
   "outputs": [],
   "source": [
    "import nltk\n",
    "from nltk.corpus import stopwords\n",
    "from nltk.stem import PorterStemmer\n",
    "from sklearn.feature_extraction.text import CountVectorizer\n",
    "\n",
    "# Download stop words and initialize stemmer\n",
    "nltk.download('stopwords')\n",
    "stop_words = stopwords.words('english')\n",
    "stemmer = PorterStemmer()\n",
    "\n",
    "# Define function to preprocess text\n",
    "def preprocess(text):\n",
    "    # Convert to lowercase and remove punctuation\n",
    "    text = text.lower().replace('[^\\w\\s]','')\n",
    "\n",
    "    # Tokenize and remove stop words\n",
    "    words = nltk.word_tokenize(text)\n",
    "    words = [word for word in words if word not in stop_words]\n",
    "\n",
    "    # Stem words\n",
    "    words = [stemmer.stem(word) for word in words]\n",
    "\n",
    "    # Join words back into a single string\n",
    "    text = ' '.join(words)\n",
    "    \n",
    "    return text\n",
    "\n",
    "# Example usage\n",
    "text = \"This is an example sentence. It contains multiple sentences!\"\n",
    "preprocessed_text = preprocess(text)\n",
    "print(preprocessed_text)"
   ]
  },
  {
   "attachments": {},
   "cell_type": "markdown",
   "metadata": {},
   "source": [
    "## Model training\n",
    "Create a statistical model, such as Naive Bayes or logistic regression, to predict whether an email is spam or not spam.\n",
    "Use MLE to estimate the model parameters that maximize the likelihood of the training data."
   ]
  },
  {
   "cell_type": "code",
   "execution_count": null,
   "metadata": {},
   "outputs": [],
   "source": [
    "from sklearn.naive_bayes import MultinomialNB\n",
    "\n",
    "# Load preprocessed data and labels\n",
    "X_train, y_train = load_data()\n",
    "\n",
    "# Create bag-of-words vectorizer\n",
    "vectorizer = CountVectorizer()\n",
    "\n",
    "# Convert text to bag-of-words features\n",
    "X_train_bow = vectorizer.fit_transform(X_train)\n",
    "\n",
    "# Train Naive Bayes model with MLE\n",
    "clf = MultinomialNB()\n",
    "clf.fit(X_train_bow, y_train)\n"
   ]
  },
  {
   "attachments": {},
   "cell_type": "markdown",
   "metadata": {},
   "source": [
    "## Model evaluation\n",
    "Evaluate the trained model on a held-out test set to measure its performance.\n",
    "Tune the model's hyperparameters, such as regularization strength or feature selection, to improve its accuracy.\n",
    "Sample code for model evaluation:"
   ]
  },
  {
   "cell_type": "code",
   "execution_count": null,
   "metadata": {},
   "outputs": [],
   "source": [
    "from sklearn.metrics import accuracy_score\n",
    "from sklearn.model_selection import train_test_split\n",
    "\n",
    "# Load preprocessed data and labels\n",
    "X, y = load_data()\n",
    "\n",
    "# Split data into training and test sets\n",
    "X_train, X_test, y_train, y_test = train_test_split(X, y, test_size=0.2)\n",
    "\n",
    "# Convert text to bag-of-words features\n",
    "X_train_bow = vectorizer.fit_transform(X_train)\n",
    "X_test_bow = vectorizer.transform(X_test)\n",
    "\n",
    "# Train Naive Bayes model with MLE\n",
    "clf = MultinomialNB()\n",
    "clf.fit(X_train_bow, y_train)\n",
    "\n",
    "# Evaluate model on test set\n",
    "y_pred = clf.predict(X_test_bow)\n",
    "accuracy = accuracy_score(y_test, y_pred)\n",
    "print(\"Accuracy:\", accuracy)\n"
   ]
  },
  {
   "attachments": {},
   "cell_type": "markdown",
   "metadata": {},
   "source": [
    "## Inference\n",
    "Use the trained model to predict whether new, unseen emails are spam or not spam.\n",
    "Preprocess the new emails in the same way as the training data before making predictions."
   ]
  },
  {
   "cell_type": "code",
   "execution_count": null,
   "metadata": {},
   "outputs": [],
   "source": [
    "# Preprocess new email text\n",
    "new_email = \"Get rich quick! Earn thousands of dollars a day!\"\n",
    "preprocessed_email = preprocess(new_email)\n",
    "\n",
    "# Convert preprocessed text to bag-of-words features\n",
    "new_email_b\n"
   ]
  }
 ],
 "metadata": {
  "language_info": {
   "name": "python"
  },
  "orig_nbformat": 4
 },
 "nbformat": 4,
 "nbformat_minor": 2
}
