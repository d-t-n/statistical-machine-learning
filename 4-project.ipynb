{
 "cells": [
  {
   "attachments": {},
   "cell_type": "markdown",
   "metadata": {},
   "source": [
    "# Project MLE - Drug Dosage\n",
    "### Business Understanding:\n",
    "A pharmaceutical company has developed a new drug that is supposed to lower blood pressure in patients. They need to determine the optimal dosage of the drug to achieve the desired effect while minimizing any potential side effects. They have conducted a clinical trial with a sample of patients, and they want to use machine learning to estimate the optimal dosage.\n",
    "\n",
    "### Data Understanding:\n",
    "The company has collected data from a clinical trial conducted on a sample of patients. The dataset contains the patient's age, gender, weight, and blood pressure measurements before and after taking the drug. The data is in a CSV file, and it is clean and ready for analysis.\n",
    "\n",
    "### Data Preparation:\n",
    "The data needs to be split into training and testing sets. The training set will be used to train the machine learning model, while the testing set will be used to evaluate the performance of the model. We will use the scikit-learn library to split the data.\n",
    "\n",
    "### Modeling:\n",
    "We will use the Maximum Likelihood Estimate (MLE) to estimate the parameters of a linear regression model. The linear regression model will predict the change in blood pressure based on the patient's age, gender, weight, and the dosage of the drug. The MLE will estimate the optimal values for the model parameters that maximize the likelihood of observing the training data. We will use the statsmodels library to perform the MLE.\n",
    "\n",
    "### Evaluation:\n",
    "We will evaluate the performance of the model on the testing set using the mean squared error (MSE) metric. The MSE measures the average squared difference between the predicted and actual blood pressure measurements in the testing set. We will compare the MSE of the linear regression model with the MSE of a baseline model that always predicts the mean blood pressure measurement in the training set."
   ]
  },
  {
   "attachments": {},
   "cell_type": "markdown",
   "metadata": {},
   "source": [
    "## Data Understanding\n",
    "In this part, we import the necessary libraries and load the clinical trial data into a pandas DataFrame."
   ]
  },
  {
   "cell_type": "code",
   "execution_count": 2,
   "metadata": {},
   "outputs": [],
   "source": [
    "# Import necessary libraries\n",
    "import pandas as pd\n",
    "\n",
    "# Load the clinical trial data into a pandas DataFrame\n",
    "data = pd.read_csv('clinical_trial_data.csv')"
   ]
  },
  {
   "attachments": {},
   "cell_type": "markdown",
   "metadata": {},
   "source": [
    "## Data Preparation\n",
    "Here, we split the data into training and testing sets using an 80/20 split, and assign predictor variables (age, gender, weight, dosage) to X and the target variable (blood_pressure) to y."
   ]
  },
  {
   "cell_type": "code",
   "execution_count": 3,
   "metadata": {},
   "outputs": [],
   "source": [
    "# Split the data into training and testing sets using an 80/20 split\n",
    "from sklearn.model_selection import train_test_split\n",
    "X_train, X_test, y_train, y_test = train_test_split(data[['age', 'gender', 'weight', 'dosage']], data['blood_pressure'], test_size=0.2, random_state=42)\n"
   ]
  },
  {
   "cell_type": "code",
   "execution_count": 6,
   "metadata": {},
   "outputs": [
    {
     "name": "stdout",
     "output_type": "stream",
     "text": [
      "(24, 4)\n",
      "age        int64\n",
      "gender    object\n",
      "weight     int64\n",
      "dosage     int64\n",
      "dtype: object\n",
      "age       0\n",
      "gender    0\n",
      "weight    0\n",
      "dosage    0\n",
      "dtype: int64\n"
     ]
    }
   ],
   "source": [
    "#Checking shape of X\n",
    "print(X_train.shape)\n",
    "print(X_train.dtypes)\n",
    "print(X_train.isnull().sum()) and print(y_train.isnull().sum())"
   ]
  },
  {
   "cell_type": "code",
   "execution_count": 7,
   "metadata": {},
   "outputs": [],
   "source": [
    "# One-hot encode gender column\n",
    "X_train = pd.get_dummies(X_train, columns=['gender'], drop_first=True)"
   ]
  },
  {
   "cell_type": "code",
   "execution_count": 8,
   "metadata": {},
   "outputs": [
    {
     "name": "stdout",
     "output_type": "stream",
     "text": [
      "(24, 4)\n",
      "age         int64\n",
      "weight      int64\n",
      "dosage      int64\n",
      "gender_M    uint8\n",
      "dtype: object\n",
      "age         0\n",
      "weight      0\n",
      "dosage      0\n",
      "gender_M    0\n",
      "dtype: int64\n"
     ]
    }
   ],
   "source": [
    "#Checking shape of X\n",
    "print(X_train.shape)\n",
    "print(X_train.dtypes)\n",
    "print(X_train.isnull().sum()) and print(y_train.isnull().sum())"
   ]
  },
  {
   "attachments": {},
   "cell_type": "markdown",
   "metadata": {},
   "source": [
    "## Modeling\n",
    "\n",
    "In this part, we fit a linear regression model to the training data using Maximum Likelihood Estimation (MLE), and add a constant to the predictor variables (X_train) to obtain the intercept term in the model."
   ]
  },
  {
   "cell_type": "code",
   "execution_count": 9,
   "metadata": {},
   "outputs": [],
   "source": [
    "# Fit a linear regression model to the training data using Maximum Likelihood Estimation (MLE)\n",
    "# and add a constant to the predictor variables (X_train) to obtain the intercept term in the model.\n",
    "import statsmodels.api as sm\n",
    "\n",
    "\n",
    "\n",
    "# Fit a linear regression model to the training data using Maximum Likelihood Estimation (MLE)\n",
    "# and add a constant to the predictor variables (X_train) to obtain the intercept term in the model.\n",
    "model = sm.OLS(y_train, sm.add_constant(X_train)).fit()\n",
    "\n",
    "\n"
   ]
  },
  {
   "attachments": {},
   "cell_type": "markdown",
   "metadata": {},
   "source": [
    "## Model evaluation\n",
    "Finally, we evaluate the performance of the model on the testing set by predicting the blood pressure values for the test data using the fitted model parameters and the predictor variables in X_test. We then calculate the Mean Squared Error (MSE) between the predicted and actual blood pressure values for the test set, and calculate the baseline MSE by predicting the mean blood pressure value in the training set for each patient in the test set. We compare the MSE of the model with the baseline MSE to see if the model performs better than the mean predictor."
   ]
  },
  {
   "cell_type": "code",
   "execution_count": 10,
   "metadata": {},
   "outputs": [
    {
     "ename": "TypeError",
     "evalue": "can't multiply sequence by non-int of type 'float'",
     "output_type": "error",
     "traceback": [
      "\u001b[0;31m---------------------------------------------------------------------------\u001b[0m",
      "\u001b[0;31mTypeError\u001b[0m                                 Traceback (most recent call last)",
      "Cell \u001b[0;32mIn[10], line 4\u001b[0m\n\u001b[1;32m      1\u001b[0m \u001b[39m# Evaluate the performance of the model on the testing set by predicting the blood pressure values for the test data\u001b[39;00m\n\u001b[1;32m      2\u001b[0m \u001b[39m# using the fitted model parameters and the predictor variables in X_test.\u001b[39;00m\n\u001b[1;32m      3\u001b[0m \u001b[39mimport\u001b[39;00m \u001b[39mnumpy\u001b[39;00m \u001b[39mas\u001b[39;00m \u001b[39mnp\u001b[39;00m\n\u001b[0;32m----> 4\u001b[0m y_pred \u001b[39m=\u001b[39m model\u001b[39m.\u001b[39;49mpredict(sm\u001b[39m.\u001b[39;49madd_constant(X_test))\n\u001b[1;32m      6\u001b[0m \u001b[39m# Calculate the Mean Squared Error (MSE) between the predicted and actual blood pressure values for the test set.\u001b[39;00m\n\u001b[1;32m      7\u001b[0m mse \u001b[39m=\u001b[39m np\u001b[39m.\u001b[39mmean((y_test \u001b[39m-\u001b[39m y_pred)\u001b[39m*\u001b[39m\u001b[39m*\u001b[39m\u001b[39m2\u001b[39m)\n",
      "File \u001b[0;32m~/Documents/Files/Projects/pytorch-test/env/lib/python3.8/site-packages/statsmodels/base/model.py:1159\u001b[0m, in \u001b[0;36mResults.predict\u001b[0;34m(self, exog, transform, *args, **kwargs)\u001b[0m\n\u001b[1;32m   1156\u001b[0m         exog \u001b[39m=\u001b[39m exog[:, \u001b[39mNone\u001b[39;00m]\n\u001b[1;32m   1157\u001b[0m     exog \u001b[39m=\u001b[39m np\u001b[39m.\u001b[39matleast_2d(exog)  \u001b[39m# needed in count model shape[1]\u001b[39;00m\n\u001b[0;32m-> 1159\u001b[0m predict_results \u001b[39m=\u001b[39m \u001b[39mself\u001b[39;49m\u001b[39m.\u001b[39;49mmodel\u001b[39m.\u001b[39;49mpredict(\u001b[39mself\u001b[39;49m\u001b[39m.\u001b[39;49mparams, exog, \u001b[39m*\u001b[39;49margs,\n\u001b[1;32m   1160\u001b[0m                                      \u001b[39m*\u001b[39;49m\u001b[39m*\u001b[39;49mkwargs)\n\u001b[1;32m   1162\u001b[0m \u001b[39mif\u001b[39;00m exog_index \u001b[39mis\u001b[39;00m \u001b[39mnot\u001b[39;00m \u001b[39mNone\u001b[39;00m \u001b[39mand\u001b[39;00m \u001b[39mnot\u001b[39;00m \u001b[39mhasattr\u001b[39m(predict_results,\n\u001b[1;32m   1163\u001b[0m                                           \u001b[39m'\u001b[39m\u001b[39mpredicted_values\u001b[39m\u001b[39m'\u001b[39m):\n\u001b[1;32m   1164\u001b[0m     \u001b[39mif\u001b[39;00m predict_results\u001b[39m.\u001b[39mndim \u001b[39m==\u001b[39m \u001b[39m1\u001b[39m:\n",
      "File \u001b[0;32m~/Documents/Files/Projects/pytorch-test/env/lib/python3.8/site-packages/statsmodels/regression/linear_model.py:397\u001b[0m, in \u001b[0;36mRegressionModel.predict\u001b[0;34m(self, params, exog)\u001b[0m\n\u001b[1;32m    394\u001b[0m \u001b[39mif\u001b[39;00m exog \u001b[39mis\u001b[39;00m \u001b[39mNone\u001b[39;00m:\n\u001b[1;32m    395\u001b[0m     exog \u001b[39m=\u001b[39m \u001b[39mself\u001b[39m\u001b[39m.\u001b[39mexog\n\u001b[0;32m--> 397\u001b[0m \u001b[39mreturn\u001b[39;00m np\u001b[39m.\u001b[39;49mdot(exog, params)\n",
      "File \u001b[0;32m<__array_function__ internals>:200\u001b[0m, in \u001b[0;36mdot\u001b[0;34m(*args, **kwargs)\u001b[0m\n",
      "\u001b[0;31mTypeError\u001b[0m: can't multiply sequence by non-int of type 'float'"
     ]
    }
   ],
   "source": [
    "# Evaluate the performance of the model on the testing set by predicting the blood pressure values for the test data\n",
    "# using the fitted model parameters and the predictor variables in X_test.\n",
    "import numpy as np\n",
    "y_pred = model.predict(sm.add_constant(X_test))\n",
    "\n",
    "# Calculate the Mean Squared Error (MSE) between the predicted and actual blood pressure values for the test set.\n",
    "mse = np.mean((y_test - y_pred)**2)\n",
    "\n",
    "# Calculate the baseline MSE by predicting the mean blood pressure value in the training set for each patient in the test set.\n",
    "baseline_mse = np.mean((y_test - np.mean(y_train))**2)\n",
    "\n",
    "# Compare the MSE of the model with the baseline MSE to see if the model performs better than the mean predictor.\n",
    "if mse < baseline_mse:\n",
    "    print('The linear regression model performs better than the baseline model.')\n",
    "else:\n",
    "    print('The baseline model performs better than the linear regression model.')\n",
    "\n"
   ]
  },
  {
   "attachments": {},
   "cell_type": "markdown",
   "metadata": {},
   "source": [
    "## Inference\n",
    "Use the trained model to predict whether new, unseen emails are spam or not spam.\n",
    "Preprocess the new emails in the same way as the training data before making predictions."
   ]
  },
  {
   "cell_type": "code",
   "execution_count": null,
   "metadata": {},
   "outputs": [],
   "source": [
    "# Preprocess new email text\n",
    "new_email = \"Get rich quick! Earn thousands of dollars a day!\"\n",
    "preprocessed_email = preprocess(new_email)\n",
    "\n",
    "# Convert preprocessed text to bag-of-words features\n",
    "new_email_b\n"
   ]
  }
 ],
 "metadata": {
  "kernelspec": {
   "display_name": "Python 3",
   "language": "python",
   "name": "python3"
  },
  "language_info": {
   "name": "python",
   "version": "3.8.16"
  },
  "orig_nbformat": 4
 },
 "nbformat": 4,
 "nbformat_minor": 2
}
