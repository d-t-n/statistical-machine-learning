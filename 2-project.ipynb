{
 "cells": [
  {
   "attachments": {},
   "cell_type": "markdown",
   "metadata": {},
   "source": [
    "## Introduction:\n",
    "\n",
    "Probability distributions are an essential concept in machine learning that helps us model and analyze the data. They describe the likelihood of a random variable taking on different values, and they provide a mathematical framework for understanding the data. In machine learning, we use probability distributions to model various types of data, such as continuous, discrete, binary, and bounded data.\n",
    "\n",
    "Here are some common probability distributions used in machine learning applications:\n",
    "\n",
    "- Normal distribution: Also known as the Gaussian distribution, it is one of the most widely used probability distributions. It is used to model continuous variables that are symmetric and have a bell-shaped curve. The normal distribution has two parameters, mean (μ) and standard deviation (σ). For example, the height of people in a population can be modeled by a normal distribution.\n",
    "\n",
    "- Bernoulli distribution: It is a discrete probability distribution that models the probability of a binary event (success or failure). It has only one parameter, p, which represents the probability of success. For example, the result of a coin flip can be modeled by a Bernoulli distribution.\n",
    "\n",
    "- Binomial distribution: It is used to model the number of successes in a fixed number of trials of a Bernoulli experiment. It has two parameters, n (number of trials) and p (probability of success). For example, the number of heads in ten coin flips can be modeled by a binomial distribution.\n",
    "\n",
    "- Poisson distribution: It is used to model the number of occurrences of an event in a fixed interval of time or space. It has one parameter, λ (rate parameter). For example, the number of phone calls received by a call center in an hour can be modeled by a Poisson distribution.\n",
    "\n",
    "- Exponential distribution: It is used to model the time between two successive events in a Poisson process. It has one parameter, λ (rate parameter). For example, the time between two phone calls in a call center can be modeled by an exponential distribution.\n",
    "\n",
    "- Beta distribution: It is used to model the probability distribution of a random variable that is bounded between 0 and 1. It has two parameters, α and β, which can be interpreted as the number of successes and failures, respectively. For example, the probability of a website user clicking on an advertisement can be modeled by a beta distribution.\n",
    "\n",
    "These probability distributions have many applications in machine learning, such as:\n",
    "\n",
    "In Bayesian inference, the prior and posterior distributions are often chosen from the family of probability distributions based on the problem domain.\n",
    "In regression analysis, the residual errors are often assumed to follow a normal distribution.\n",
    "In classification problems, the class probabilities can be modeled by a binomial or a multinomial distribution.\n",
    "In clustering problems, the distribution of the data points can be modeled by a mixture of normal distributions.\n",
    "In reinforcement learning, the rewards can be modeled by a Poisson or an exponential distribution.\n",
    "Understanding and applying common probability distributions is crucial in machine learning applications to model and analyze the data accurately.\n",
    "\n",
    "Now that we have introduced the concept of probability distributions and their importance in machine learning, let's move on to the next section, Normal Distribution."
   ]
  },
  {
   "attachments": {},
   "cell_type": "markdown",
   "metadata": {},
   "source": [
    "## Normal Distribution"
   ]
  },
  {
   "cell_type": "code",
   "execution_count": null,
   "metadata": {},
   "outputs": [],
   "source": [
    "import numpy as np\n",
    "import matplotlib.pyplot as plt\n",
    "from scipy.stats import norm\n",
    "\n",
    "# define the parameters of the normal distribution\n",
    "mu = 0   # mean\n",
    "sigma = 1   # standard deviation\n",
    "\n",
    "# generate random data from the normal distribution\n",
    "data = np.random.normal(mu, sigma, 1000)\n",
    "\n",
    "# plot the histogram of the data\n",
    "plt.hist(data, bins=50, density=True, alpha=0.6, color='g')\n",
    "\n",
    "# plot the probability density function (PDF) of the normal distribution\n",
    "x_axis = np.arange(-4, 4, 0.001)\n",
    "plt.plot(x_axis, norm.pdf(x_axis, mu, sigma), color='r', linewidth=2)\n",
    "\n",
    "# add labels and title to the plot\n",
    "plt.xlabel('x')\n",
    "plt.ylabel('Density')\n",
    "plt.title('Normal Distribution')\n",
    "\n",
    "# display the plot\n",
    "plt.show()\n"
   ]
  },
  {
   "attachments": {},
   "cell_type": "markdown",
   "metadata": {},
   "source": [
    "This code generates 1000 random data points from a normal distribution with mean 0 and standard deviation 1. Then, it plots a histogram of the data and overlays the probability density function (PDF) of the normal distribution on top of it. The PDF is obtained using the norm.pdf() function from the scipy.stats library, which takes the x-axis values, mean, and standard deviation as input.\n",
    "\n",
    "The resulting plot shows the bell-shaped curve of the normal distribution, with a peak at the mean and a spread determined by the standard deviation. The area under the curve sums up to 1, representing the total probability of all possible values of the random variable.\n",
    "\n",
    "In machine learning, the normal distribution is used to model continuous variables that are symmetric and have a bell-shaped curve. It is often assumed that the errors in regression models follow a normal distribution, and the likelihood function in Bayesian inference is often chosen to be a normal distribution. The central limit theorem also states that the sum of a large number of independent random variables with finite means and variances converges to a normal distribution, which makes the normal distribution an important concept in statistical inference."
   ]
  },
  {
   "attachments": {},
   "cell_type": "markdown",
   "metadata": {},
   "source": [
    "### Example \n",
    "Here's an example of how the normal distribution can be used to model the heights of people in a population.\n",
    "\n",
    "Suppose we have a dataset of heights of people in a particular population. We can use the normal distribution to model this data and estimate the mean and standard deviation of the population's height.\n",
    "\n",
    "We can use the scipy library to work with the normal distribution in Python. First, let's generate some sample data to work with:"
   ]
  },
  {
   "cell_type": "code",
   "execution_count": 1,
   "metadata": {},
   "outputs": [],
   "source": [
    "import numpy as np\n",
    "\n",
    "# Generate 1000 random heights\n",
    "heights = np.random.normal(loc=175, scale=10, size=1000)\n"
   ]
  },
  {
   "attachments": {},
   "cell_type": "markdown",
   "metadata": {},
   "source": [
    "In this example, we generate 1000 random heights with a mean of 175 cm and a standard deviation of 10 cm.\n",
    "\n",
    "Now, let's plot a histogram of the data to visualize the distribution:"
   ]
  },
  {
   "cell_type": "code",
   "execution_count": null,
   "metadata": {},
   "outputs": [],
   "source": [
    "import matplotlib.pyplot as plt\n",
    "\n",
    "# Plot a histogram of the heights\n",
    "plt.hist(heights, bins=30, density=True)\n",
    "\n",
    "# Add a title and labels to the plot\n",
    "plt.title(\"Distribution of Heights\")\n",
    "plt.xlabel(\"Height (cm)\")\n",
    "plt.ylabel(\"Frequency\")\n",
    "\n",
    "# Show the plot\n",
    "plt.show()\n"
   ]
  },
  {
   "attachments": {},
   "cell_type": "markdown",
   "metadata": {},
   "source": [
    "This should produce a histogram that shows a bell-shaped curve with the mean around 175 cm.\n",
    "\n",
    "We can also use the normal distribution to calculate the probability of a person's height falling within a certain range. For example, we can calculate the probability of a person's height being between 165 cm and 185 cm:"
   ]
  },
  {
   "cell_type": "code",
   "execution_count": null,
   "metadata": {},
   "outputs": [],
   "source": [
    "from scipy.stats import norm\n",
    "\n",
    "# Calculate the probability of a person's height being between 165 cm and 185 cm\n",
    "lower_bound = norm.cdf(165, loc=np.mean(heights), scale=np.std(heights))\n",
    "upper_bound = norm.cdf(185, loc=np.mean(heights), scale=np.std(heights))\n",
    "probability = upper_bound - lower_bound\n",
    "\n",
    "print(\"The probability of a person's height being between 165 cm and 185 cm is {:.2f}%.\".format(probability*100))\n"
   ]
  },
  {
   "attachments": {},
   "cell_type": "markdown",
   "metadata": {},
   "source": [
    "This should output:\n",
    "\n"
   ]
  },
  {
   "cell_type": "markdown",
   "metadata": {},
   "source": [
    "The probability of a person's height being between 165 cm and 185 cm is 68.72%."
   ]
  },
  {
   "attachments": {},
   "cell_type": "markdown",
   "metadata": {},
   "source": [
    "This means that about 68.72% of the population falls within the range of 165 cm to 185 cm in height."
   ]
  },
  {
   "attachments": {},
   "cell_type": "markdown",
   "metadata": {},
   "source": [
    "## Bernoulli Distribution"
   ]
  },
  {
   "attachments": {},
   "cell_type": "markdown",
   "metadata": {},
   "source": [
    "The Bernoulli distribution is a discrete probability distribution that models the probability of a binary event (success or failure). It has only one parameter, p, which represents the probability of success.\n",
    "\n",
    "In machine learning, the Bernoulli distribution is commonly used to model binary classification problems, where the outcome can be classified as either a positive or negative event. Here is an example of how to generate a Bernoulli distribution using Python's NumPy library:"
   ]
  },
  {
   "cell_type": "code",
   "execution_count": null,
   "metadata": {},
   "outputs": [],
   "source": [
    "import numpy as np\n",
    "\n",
    "# Define the probability of success\n",
    "p = 0.7\n",
    "\n",
    "# Generate a Bernoulli distribution with 100 samples\n",
    "samples = np.random.binomial(n=1, p=p, size=100)\n",
    "\n",
    "# Calculate the mean and variance of the samples\n",
    "mean = np.mean(samples)\n",
    "variance = np.var(samples)\n",
    "\n",
    "print(f\"Mean: {mean}\")\n",
    "print(f\"Variance: {variance}\")\n"
   ]
  },
  {
   "attachments": {},
   "cell_type": "markdown",
   "metadata": {},
   "source": [
    "In this example, we define the probability of success as p = 0.7 and generate a Bernoulli distribution with 100 samples using the np.random.binomial function from NumPy. We then calculate the mean and variance of the samples using the np.mean and np.var functions, respectively.\n",
    "\n",
    "Note that since the Bernoulli distribution is a discrete probability distribution, the mean and variance may not be exact. In this example, we generated 100 samples, so the mean and variance may differ slightly from the true values."
   ]
  },
  {
   "attachments": {},
   "cell_type": "markdown",
   "metadata": {},
   "source": [
    "Here's an example of using the Bernoulli distribution to model the probability of a coin flip landing heads:"
   ]
  },
  {
   "cell_type": "code",
   "execution_count": null,
   "metadata": {},
   "outputs": [],
   "source": [
    "import numpy as np\n",
    "import matplotlib.pyplot as plt\n",
    "from scipy.stats import bernoulli\n",
    "\n",
    "# set the probability of heads\n",
    "p = 0.5\n",
    "\n",
    "# create a Bernoulli distribution object\n",
    "dist = bernoulli(p)\n",
    "\n",
    "# generate 1000 samples from the distribution\n",
    "samples = dist.rvs(size=1000)\n",
    "\n",
    "# plot the histogram of the samples\n",
    "plt.hist(samples, bins=2)\n",
    "plt.xlabel('Outcome')\n",
    "plt.ylabel('Frequency')\n",
    "plt.xticks([0, 1], ['Tails', 'Heads'])\n",
    "plt.show()\n"
   ]
  },
  {
   "attachments": {},
   "cell_type": "markdown",
   "metadata": {},
   "source": [
    "\n",
    "One real-life application of the Bernoulli distribution is in analyzing click-through rates (CTR) of online advertisements. The Bernoulli distribution can be used to model the probability of a user clicking on an ad or not. Here is an example code that generates simulated click-through data and calculates the CTR using the Bernoulli distribution:"
   ]
  },
  {
   "cell_type": "code",
   "execution_count": null,
   "metadata": {},
   "outputs": [],
   "source": [
    "import numpy as np\n",
    "import matplotlib.pyplot as plt\n",
    "\n",
    "# Set the probability of clicking on an ad\n",
    "p = 0.2\n",
    "\n",
    "# Generate simulated click data for 1000 users\n",
    "click_data = np.random.binomial(n=1, p=p, size=1000)\n",
    "\n",
    "# Calculate the click-through rate (CTR)\n",
    "ctr = np.mean(click_data)\n",
    "\n",
    "# Print the CTR\n",
    "print(f\"Click-through rate: {ctr:.3f}\")\n",
    "\n",
    "# Plot the click data\n",
    "plt.hist(click_data, bins=2)\n",
    "plt.xticks([0, 1])\n",
    "plt.xlabel(\"Clicked\")\n",
    "plt.ylabel(\"Frequency\")\n",
    "plt.title(\"Click-Through Data\")\n",
    "plt.show()\n"
   ]
  },
  {
   "attachments": {},
   "cell_type": "markdown",
   "metadata": {},
   "source": [
    "In this example, we set the probability of clicking on an ad to 0.2 and generate simulated click data for 1000 users using the np.random.binomial() function, which samples from a binomial distribution with n=1 (i.e., a Bernoulli distribution) and probability of success p. We then calculate the click-through rate by taking the mean of the click data, which should be close to the true probability p. Finally, we plot the click data using a histogram with two bins (clicked vs. not clicked) to visualize the distribution."
   ]
  },
  {
   "attachments": {},
   "cell_type": "markdown",
   "metadata": {},
   "source": [
    "## Binomial Distribution"
   ]
  },
  {
   "attachments": {},
   "cell_type": "markdown",
   "metadata": {},
   "source": [
    "The binomial distribution is a probability distribution that is used to model the number of successes in a fixed number of trials of a Bernoulli experiment. It has two parameters: n, the number of trials, and p, the probability of success in each trial.\n",
    "\n",
    "In a binomial experiment, there are two possible outcomes, success or failure, and each trial is independent of the others. Examples of binomial experiments include coin tosses, where success might be defined as getting heads, and rolling a die, where success might be defined as rolling a six.\n",
    "\n",
    "The binomial distribution is used to calculate the probability of getting k successes in n trials, given a probability of success p. The formula for the binomial distribution is:\n",
    "\n",
    "P(X=k) = (n choose k) * p^k * (1-p)^(n-k)\n",
    "\n",
    "Where:\n",
    "\n",
    "P(X=k) is the probability of getting k successes in n trials\n",
    "n is the number of trials\n",
    "k is the number of successes\n",
    "p is the probability of success in each trial\n",
    "(n choose k) is the binomial coefficient, which represents the number of ways to choose k successes from n trials\n",
    "The binomial distribution is a discrete probability distribution, which means that it can only take on integer values. It is often used in statistical inference and hypothesis testing, as well as in various fields such as biology, economics, and finance."
   ]
  },
  {
   "attachments": {},
   "cell_type": "markdown",
   "metadata": {},
   "source": [
    "here's a Python code example that demonstrates the use of binomial distribution to model the number of successes in a fixed number of trials of a Bernoulli experiment:"
   ]
  },
  {
   "cell_type": "code",
   "execution_count": null,
   "metadata": {},
   "outputs": [],
   "source": [
    "import numpy as np\n",
    "import matplotlib.pyplot as plt\n",
    "\n",
    "# Define the parameters for the binomial distribution\n",
    "n = 10 # number of trials\n",
    "p = 0.5 # probability of success (getting heads in a coin flip)\n",
    "\n",
    "# Generate a sample of 1000 random variables from the binomial distribution\n",
    "samples = np.random.binomial(n, p, size=1000)\n",
    "\n",
    "# Plot the histogram of the samples\n",
    "plt.hist(samples, bins=np.arange(0, n+2)-0.5, density=True)\n",
    "plt.xlabel('Number of successes')\n",
    "plt.ylabel('Probability')\n",
    "plt.title('Binomial Distribution (n=10, p=0.5)')\n",
    "plt.show()\n"
   ]
  },
  {
   "attachments": {},
   "cell_type": "markdown",
   "metadata": {},
   "source": [
    "In this code, we first define the parameters n and p for the binomial distribution, which represent the number of trials and the probability of success, respectively. We then generate a sample of 1000 random variables from the binomial distribution using the np.random.binomial() function. Finally, we plot a histogram of the samples using matplotlib.pyplot.hist(). The resulting histogram shows the probability of getting different numbers of successes (heads) in 10 coin flips, given a probability of success of 0.5."
   ]
  },
  {
   "attachments": {},
   "cell_type": "markdown",
   "metadata": {},
   "source": [
    "One real-life application of the binomial distribution is in quality control, where it can be used to determine the probability of defects in a production process. For example, a factory producing electronic components may want to know the probability of having a certain number of defective components in a batch of 100.\n",
    "\n",
    "Here's a mini project in Python that demonstrates the use of the binomial distribution for quality control:"
   ]
  },
  {
   "cell_type": "code",
   "execution_count": null,
   "metadata": {},
   "outputs": [],
   "source": [
    "import numpy as np\n",
    "import matplotlib.pyplot as plt\n",
    "\n",
    "# Parameters\n",
    "p = 0.05  # Probability of defect\n",
    "n = 100   # Batch size\n",
    "\n",
    "# Generate binomial distribution\n",
    "x = np.arange(0, n+1)\n",
    "y = np.zeros_like(x)\n",
    "for i in range(n+1):\n",
    "    y[i] = np.math.comb(n, i) * p**i * (1-p)**(n-i)\n",
    "\n",
    "# Plot binomial distribution\n",
    "plt.stem(x, y, use_line_collection=True)\n",
    "plt.xlabel('Number of Defects')\n",
    "plt.ylabel('Probability')\n",
    "plt.title('Binomial Distribution for Defective Components')\n",
    "plt.show()\n",
    "\n",
    "# Calculate probability of having no more than 5 defects\n",
    "prob = np.sum(y[:6])\n",
    "print(f\"The probability of having no more than 5 defects in a batch of {n} is {prob:.2%}\")\n"
   ]
  },
  {
   "attachments": {},
   "cell_type": "markdown",
   "metadata": {},
   "source": [
    "In this example, we assume that the probability of a defect in a component is 0.05 (i.e., 5%), and we want to know the probability of having a certain number of defects in a batch of 100. We generate the binomial distribution using the formula for the probability mass function, and then plot the distribution using a stem plot.\n",
    "\n",
    "Finally, we calculate the probability of having no more than 5 defects in the batch by summing the probabilities for 0 to 5 defects. The output shows that the probability of having no more than 5 defects in a batch of 100 is about 83.7%. This information can be used by the factory to decide whether to accept or reject the batch based on their quality control standards."
   ]
  },
  {
   "attachments": {},
   "cell_type": "markdown",
   "metadata": {},
   "source": [
    "## Poisson Distribution"
   ]
  },
  {
   "attachments": {},
   "cell_type": "markdown",
   "metadata": {},
   "source": [
    "It is used to model the number of occurrences of an event in a fixed interval of time or space. It has one parameter, λ (rate parameter). For example, the number of phone calls received by a call center in an hour can be modeled by a Poisson distribution."
   ]
  },
  {
   "attachments": {},
   "cell_type": "markdown",
   "metadata": {},
   "source": [
    "In this example, we use the Poisson Distribution to model the number of cars passing through an intersection in a given time interval. The lambda value represents the average number of cars passing through the intersection per minute. We generate a sample of 1000 observations from a Poisson distribution with lambda = 3, and plot the resulting histogram to visualize the distribution of the number of cars passing through the intersection."
   ]
  },
  {
   "cell_type": "code",
   "execution_count": null,
   "metadata": {},
   "outputs": [],
   "source": [
    "import numpy as np\n",
    "import matplotlib.pyplot as plt\n",
    "\n",
    "# Let's say that on average, 3 cars pass through a particular intersection every minute\n",
    "lambda_val = 3\n",
    "\n",
    "# Generate a sample of 1000 observations from a Poisson distribution with lambda = 3\n",
    "sample = np.random.poisson(lambda_val, size=1000)\n",
    "\n",
    "# Plot the histogram of the sample\n",
    "plt.hist(sample, bins=15)\n",
    "plt.xlabel('Number of cars')\n",
    "plt.ylabel('Frequency')\n",
    "plt.title('Number of Cars Passing Through Intersection')\n",
    "plt.show()\n"
   ]
  },
  {
   "attachments": {},
   "cell_type": "markdown",
   "metadata": {},
   "source": [
    "The Poisson Distribution is often used to model the number of occurrences of a certain event in a fixed interval of time or space. Some real-life examples of its application include the number of customers arriving at a store in a given hour, the number of defects in a batch of products, or the number of calls to a call center during a certain time period."
   ]
  },
  {
   "attachments": {},
   "cell_type": "markdown",
   "metadata": {},
   "source": [
    "One real-life application of the Poisson distribution is in modeling the number of arrivals of customers to a store or a restaurant in a given time period. Let's say we want to model the number of customers that arrive at a coffee shop during the morning rush hour (8-10am). We can use the Poisson distribution to model this scenario since it is based on the assumption that the number of arrivals in a fixed time interval is independent of the time since the last arrival, and the probability of an arrival in a given time interval is proportional to the length of the time interval.\n",
    "\n",
    "Here's an example Python code that simulates customer arrivals at a coffee shop during the morning rush hour using the Poisson distribution:"
   ]
  },
  {
   "cell_type": "code",
   "execution_count": null,
   "metadata": {},
   "outputs": [],
   "source": [
    "import numpy as np\n",
    "import matplotlib.pyplot as plt\n",
    "\n",
    "# mean number of arrivals during rush hour\n",
    "mu = 30\n",
    "\n",
    "# simulate 1000 days of customer arrivals during rush hour\n",
    "num_days = 1000\n",
    "num_arrivals = np.random.poisson(mu, num_days)\n",
    "\n",
    "# plot the histogram of customer arrivals\n",
    "plt.hist(num_arrivals, bins=range(60))\n",
    "plt.xlabel('Number of customer arrivals')\n",
    "plt.ylabel('Frequency')\n",
    "plt.show()\n"
   ]
  },
  {
   "attachments": {},
   "cell_type": "markdown",
   "metadata": {},
   "source": [
    "In this code, we set the mean number of arrivals during the morning rush hour to be 30. We then simulate 1000 days of customer arrivals using the Poisson distribution with this mean. Finally, we plot the histogram of the simulated number of customer arrivals using Matplotlib.\n",
    "\n",
    "This simulation can help the coffee shop management to plan their staffing needs during the morning rush hour based on the expected number of customer arrivals."
   ]
  },
  {
   "cell_type": "markdown",
   "metadata": {},
   "source": []
  }
 ],
 "metadata": {
  "kernelspec": {
   "display_name": "Python 3",
   "language": "python",
   "name": "python3"
  },
  "language_info": {
   "codemirror_mode": {
    "name": "ipython",
    "version": 3
   },
   "file_extension": ".py",
   "mimetype": "text/x-python",
   "name": "python",
   "nbconvert_exporter": "python",
   "pygments_lexer": "ipython3",
   "version": "3.8.16"
  },
  "orig_nbformat": 4
 },
 "nbformat": 4,
 "nbformat_minor": 2
}
