{
 "cells": [
  {
   "attachments": {},
   "cell_type": "markdown",
   "metadata": {},
   "source": [
    "# Applying Probability Distributions in Machine Learning\n",
    "In this exercise, you will apply common probability distributions to a machine learning problem. Follow the steps below to complete the exercise.\n",
    "\n",
    "## Step 1: Import Necessary Libraries\n",
    "Import the necessary libraries to load, preprocess, and analyze the data. You'll need libraries like NumPy, Pandas, Matplotlib, and Scikit-learn."
   ]
  },
  {
   "cell_type": "code",
   "execution_count": null,
   "metadata": {},
   "outputs": [],
   "source": [
    "import numpy as np\n",
    "import pandas as pd\n",
    "import matplotlib.pyplot as plt\n",
    "from sklearn.datasets import load_iris\n",
    "from sklearn.linear_model import LogisticRegression\n",
    "from sklearn.model_selection import train_test_split\n",
    "from sklearn.metrics import accuracy_score"
   ]
  },
  {
   "attachments": {},
   "cell_type": "markdown",
   "metadata": {},
   "source": [
    "## Step 2: Load and Preprocess the Data\n",
    "Load a dataset of your choice, preprocess it as needed, and split it into training and testing sets. You can use a dataset from the Scikit-learn library, or you can load your own dataset."
   ]
  },
  {
   "cell_type": "code",
   "execution_count": null,
   "metadata": {},
   "outputs": [],
   "source": [
    "iris = load_iris()\n",
    "X = iris.data\n",
    "y = iris.target\n",
    "X_train, X_test, y_train, y_test = train_test_split(X, y, test_size=0.2, random_state=0)"
   ]
  },
  {
   "attachments": {},
   "cell_type": "markdown",
   "metadata": {},
   "source": [
    "## Step 3: Select a Machine Learning Algorithm\n",
    "Choose a machine learning algorithm that is suitable for your dataset. You can use a classification algorithm like logistic regression, or a clustering algorithm like k-means."
   ]
  },
  {
   "cell_type": "code",
   "execution_count": null,
   "metadata": {},
   "outputs": [],
   "source": [
    "clf = LogisticRegression(random_state=0)"
   ]
  },
  {
   "attachments": {},
   "cell_type": "markdown",
   "metadata": {},
   "source": [
    "## Step 4: Train the Model\n",
    "Train your model on the training dataset. You can use the fit() method of the algorithm you selected in Step 3."
   ]
  },
  {
   "cell_type": "code",
   "execution_count": null,
   "metadata": {},
   "outputs": [],
   "source": [
    "clf.fit(X_train, y_train)"
   ]
  },
  {
   "attachments": {},
   "cell_type": "markdown",
   "metadata": {},
   "source": [
    "\n",
    "## Step 5: Apply Probability Distributions\n",
    "Calculate the probability density function (PDF) or cumulative distribution function (CDF) for the probability distributions of interest (e.g., Gaussian, Poisson, etc.), and apply them to the training and testing datasets. You can use NumPy to calculate the PDF or CDF."
   ]
  },
  {
   "cell_type": "code",
   "execution_count": null,
   "metadata": {},
   "outputs": [],
   "source": [
    "mu, std = np.mean(X_train), np.std(X_train)\n",
    "pdf = 1/(std*np.sqrt(2*np.pi)) * np.exp(-(X_train-mu)**2/(2*std**2))\n",
    "X_train_gauss = (X_train - mu) / std\n",
    "X_test_gauss = (X_test - mu) / std"
   ]
  },
  {
   "attachments": {},
   "cell_type": "markdown",
   "metadata": {},
   "source": [
    "\n",
    "## Step 6: Evaluate Performance\n",
    "Use evaluation metrics such as accuracy, precision, recall, and F1 score to evaluate the performance of the model. You can use the predict() method of the algorithm you selected in Step 3 to make predictions on the testing dataset, and then use Scikit-learn to calculate the evaluation metrics."
   ]
  },
  {
   "cell_type": "code",
   "execution_count": null,
   "metadata": {},
   "outputs": [],
   "source": [
    "y_pred = clf.predict(X_test_gauss)\n",
    "accuracy = accuracy_score(y_test, y_pred)\n",
    "print(\"Accuracy:\", accuracy)"
   ]
  },
  {
   "attachments": {},
   "cell_type": "markdown",
   "metadata": {},
   "source": [
    "## Step 7: Visualize the Results\n",
    "Visualize the results of your analysis using graphs, charts, or other visualizations. You can use Matplotlib to create visualizations of your results"
   ]
  },
  {
   "cell_type": "code",
   "execution_count": null,
   "metadata": {},
   "outputs": [],
   "source": [
    "plt.scatter(X_train_gauss[:, 0], X_train_gauss[:, 1], c=y_train)\n",
    "plt.title(\"Iris Dataset with Gaussian Distribution\")"
   ]
  }
 ],
 "metadata": {
  "language_info": {
   "name": "python"
  },
  "orig_nbformat": 4
 },
 "nbformat": 4,
 "nbformat_minor": 2
}
