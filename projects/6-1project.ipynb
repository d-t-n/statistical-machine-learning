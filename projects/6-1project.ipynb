{
 "cells": [
  {
   "attachments": {},
   "cell_type": "markdown",
   "metadata": {},
   "source": [
    "# Project 6.1"
   ]
  },
  {
   "attachments": {},
   "cell_type": "markdown",
   "metadata": {},
   "source": [
    "Project 1: Support Vector Machines (SVMs) in Credit Risk Analysis\n",
    "\n",
    "Business understanding – A financial institution wants to minimize the risk of loan default by identifying high-risk borrowers.\n",
    "\n",
    "Data understanding – The institution has a dataset containing the financial and personal information of past borrowers, including credit score, income, age, and loan status.\n",
    "\n",
    "Data preparation – We will pre-process the data by removing missing values and standardizing the numerical features. We will also encode the categorical features using one-hot encoding.\n",
    "\n",
    "Modeling – We will apply SVMs to classify borrowers into high and low-risk categories. We will experiment with different kernel functions and regularization parameters to optimize the model's performance.\n",
    "\n",
    "Evaluation – We will evaluate the SVM model using metrics such as accuracy, precision, recall, and F1-score. We will also compare the SVM model's performance to other classification algorithms such as logistic regression and decision trees."
   ]
  },
  {
   "cell_type": "code",
   "execution_count": null,
   "metadata": {},
   "outputs": [],
   "source": [
    "# Load and pre-process the data\n",
    "import pandas as pd\n",
    "from sklearn.preprocessing import StandardScaler, OneHotEncoder\n",
    "from sklearn.model_selection import train_test_split\n",
    "\n",
    "df = pd.read_csv('credit_data.csv')\n",
    "df.dropna(inplace=True)\n",
    "\n",
    "numerical_cols = ['credit_score', 'income', 'age']\n",
    "categorical_cols = ['gender', 'education', 'employment']\n",
    "\n",
    "X_numerical = StandardScaler().fit_transform(df[numerical_cols])\n",
    "X_categorical = OneHotEncoder().fit_transform(df[categorical_cols]).toarray()\n",
    "X = np.concatenate([X_numerical, X_categorical], axis=1)\n",
    "\n",
    "y = df['default'].values\n",
    "\n",
    "# Split the data into training and test sets\n",
    "X_train, X_test, y_train, y_test = train_test_split(X, y, test_size=0.2, random_state=42)\n",
    "\n",
    "# Train an SVM model\n",
    "from sklearn.svm import SVC\n",
    "from sklearn.metrics import accuracy_score, precision_score, recall_score, f1_score\n",
    "\n",
    "svm = SVC(kernel='rbf', C=10)\n",
    "svm.fit(X_train, y_train)\n",
    "\n",
    "# Evaluate the model\n",
    "y_pred = svm.predict(X_test)\n",
    "\n",
    "accuracy = accuracy_score(y_test, y_pred)\n",
    "precision = precision_score(y_test, y_pred)\n",
    "recall = recall_score(y_test, y_pred)\n",
    "f1 = f1_score(y_test, y_pred)\n",
    "\n",
    "print(f'Accuracy: {accuracy:.2f}, Precision: {precision:.2f}, Recall: {recall:.2f}, F1-score: {f1:.2f}')\n"
   ]
  }
 ],
 "metadata": {
  "language_info": {
   "name": "python"
  },
  "orig_nbformat": 4
 },
 "nbformat": 4,
 "nbformat_minor": 2
}
